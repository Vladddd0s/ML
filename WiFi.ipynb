{
 "cells": [
  {
   "cell_type": "code",
   "execution_count": 2,
   "metadata": {},
   "outputs": [
    {
     "name": "stdout",
     "output_type": "stream",
     "text": [
      "Accuracy 0.965\n",
      "[[0.0000007  0.87498374 0.12501556 0.        ]]\n",
      "[[0.0000008  0.20107749 0.79892171 0.        ]]\n",
      "[[0.00336155 0.00000019 0.93764006 0.0589982 ]]\n",
      "[[0.0002442  0.         0.35236101 0.64739479]]\n",
      "[[0.00000383 0.80435704 0.19563913 0.        ]]\n",
      "[[0.00003527 0.81379735 0.18616739 0.        ]]\n",
      "[[0.00000025 0.89313309 0.10686666 0.        ]]\n",
      "[[0.10940588 0.00028796 0.89029121 0.00001495]]\n",
      "[[0.02707177 0.         0.3050082  0.66792003]]\n",
      "[[0.0000006  0.57324157 0.4267578  0.00000003]]\n",
      "[[0.00002946 0.70026739 0.29970315 0.        ]]\n",
      "[[0.0000001  0.17188281 0.82811708 0.00000001]]\n",
      "[[0.00001141 0.130209   0.86977959 0.        ]]\n",
      "[[0.00000487 0.66597622 0.33401892 0.        ]]\n"
     ]
    },
    {
     "name": "stderr",
     "output_type": "stream",
     "text": [
      "C:\\Users\\User\\Anaconda3\\lib\\site-packages\\sklearn\\linear_model\\logistic.py:433: FutureWarning: Default solver will be changed to 'lbfgs' in 0.22. Specify a solver to silence this warning.\n",
      "  FutureWarning)\n",
      "C:\\Users\\User\\Anaconda3\\lib\\site-packages\\sklearn\\linear_model\\logistic.py:460: FutureWarning: Default multi_class will be changed to 'auto' in 0.22. Specify the multi_class option to silence this warning.\n",
      "  \"this warning.\", FutureWarning)\n"
     ]
    }
   ],
   "source": [
    "import numpy as np\n",
    "import pandas as pd \n",
    "import seaborn as sns\n",
    "import matplotlib.pyplot as plt \n",
    "%matplotlib inline\n",
    "from sklearn.model_selection import train_test_split\n",
    "from sklearn import linear_model\n",
    "from sklearn import metrics\n",
    "\n",
    "df = pd.read_csv(r'C:\\Users\\User\\Downloads\\wifi_localization.txt', sep=\"\\t\", header=None, \n",
    "                 names=[\"s1\", \"s2\", \"s3\", \"s4\", \"s5\", \"s6\", \"s7\", \"r\"])\n",
    "X = df.iloc[:, :7]\n",
    "y = df.iloc[:, 7]\n",
    "X_train, X_test, y_train, y_test = train_test_split(X, y,  test_size=0.2)\n",
    "log_full = linear_model.LogisticRegression()\n",
    "log_full.fit(X_train, y_train)\n",
    "full_predict = log_full.predict(X_test)\n",
    "print(\"Accuracy\", metrics.accuracy_score(y_test, full_predict))\n",
    "a = []\n",
    "for i in y_test:\n",
    "    a.append(i)\n",
    "b = []\n",
    "for i in full_predict:\n",
    "    b.append(i)\n",
    "np.set_printoptions(suppress=True)\n",
    "for i in range(len(a)):\n",
    "    if a[i]!=b[i]:\n",
    "        print(log_full.predict_proba([X_test.iloc[i,:]]))"
   ]
  },
  {
   "cell_type": "code",
   "execution_count": null,
   "metadata": {},
   "outputs": [],
   "source": []
  }
 ],
 "metadata": {
  "kernelspec": {
   "display_name": "Python 3",
   "language": "python",
   "name": "python3"
  },
  "language_info": {
   "codemirror_mode": {
    "name": "ipython",
    "version": 3
   },
   "file_extension": ".py",
   "mimetype": "text/x-python",
   "name": "python",
   "nbconvert_exporter": "python",
   "pygments_lexer": "ipython3",
   "version": "3.7.1"
  }
 },
 "nbformat": 4,
 "nbformat_minor": 2
}
